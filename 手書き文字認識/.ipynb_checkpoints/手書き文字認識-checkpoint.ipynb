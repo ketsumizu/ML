{
 "cells": [
  {
   "cell_type": "code",
   "execution_count": 5,
   "id": "1cc2f279",
   "metadata": {
    "scrolled": false
   },
   "outputs": [
    {
     "name": "stdout",
     "output_type": "stream",
     "text": [
      "正解率=0.9288888888888889\n",
      "[3]\n"
     ]
    },
    {
     "name": "stderr",
     "output_type": "stream",
     "text": [
      "/opt/anaconda3/envs/pythonenv/lib/python3.9/site-packages/sklearn/svm/_base.py:985: ConvergenceWarning: Liblinear failed to converge, increase the number of iterations.\n",
      "  warnings.warn(\"Liblinear failed to converge, increase \"\n"
     ]
    },
    {
     "data": {
      "image/png": "[encoded data removed]",
      "text/plain": [
       "<Figure size 432x288 with 1 Axes>"
      ]
     },
     "metadata": {
      "needs_background": "light"
     },
     "output_type": "display_data"
    }
   ],
   "source": [
    "%matplotlib inline\n",
    "from sklearn.datasets import load_digits\n",
    "from matplotlib import pylab as plt\n",
    "from sklearn.model_selection import train_test_split as split\n",
    "from sklearn import svm\n",
    "import numpy as np\n",
    "from PIL import Image\n",
    "import joblib\n",
    "\n",
    "digits = load_digits()\n",
    "\n",
    "x, x_test, y, y_test = split(digits.data, digits.target)\n",
    "\n",
    "# clf = svm.SVC()\n",
    "clf = svm.LinearSVC()\n",
    "clf.fit(x, y)\n",
    "\n",
    "pred = clf.predict(x_test)\n",
    "result = list(pred == y_test).count(True) / len(y_test)\n",
    "print(\"正解率=\" + str(result))\n",
    "\n",
    "joblib.dump(clf, \"digits.pkl\", compress=True)\n",
    "\n",
    "#以下用意した手書き文字判定\n",
    "png_file = \"tegaki.png\"\n",
    "\n",
    "#画像ファイルを開く\n",
    "img = Image.open(png_file)\n",
    "plt.imshow(img)\n",
    "\n",
    "#データを２次元配列から１次元配列に変換\n",
    "img.thumbnail((8, 8), Image.LANCZOS) #リサイズ\n",
    "img = img.convert(\"L\") #グレースケールに\n",
    "plt.imshow(img, cmap = \"gray\") \n",
    "\n",
    "img_a = np.array(img, 'f') #画像⇨配列\n",
    "img_a = 255 - img_a #ネガポジ変換\n",
    "img_a = img_a //16 #0-16の範囲に揃える\n",
    "img_a = img_a.reshape(-1,) #１次元に変換\n",
    "\n",
    "clf = joblib.load(\"digits.pkl\") #学習モデルを読み込んで判定\n",
    "result = clf.predict([img_a])\n",
    "print(result)"
   ]
  },
  {
   "cell_type": "code",
   "execution_count": null,
   "id": "bb5b7453",
   "metadata": {},
   "outputs": [],
   "source": []
  }
 ],
 "metadata": {
  "kernelspec": {
   "display_name": "Python 3",
   "language": "python",
   "name": "python3"
  },
  "language_info": {
   "codemirror_mode": {
    "name": "ipython",
    "version": 3
   },
   "file_extension": ".py",
   "mimetype": "text/x-python",
   "name": "python",
   "nbconvert_exporter": "python",
   "pygments_lexer": "ipython3",
   "version": "3.9.2"
  }
 },
 "nbformat": 4,
 "nbformat_minor": 5
}
