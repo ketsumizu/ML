{
 "cells": [
  {
   "cell_type": "code",
   "execution_count": 4,
   "id": "4cf35327",
   "metadata": {},
   "outputs": [
    {
     "name": "stdout",
     "output_type": "stream",
     "text": [
      "[3]\n"
     ]
    },
    {
     "data": {
      "image/png": "[encoded data removed]",
      "text/plain": [
       "<Figure size 432x288 with 1 Axes>"
      ]
     },
     "metadata": {
      "needs_background": "light"
     },
     "output_type": "display_data"
    }
   ],
   "source": [
    "%matplotlib inline\n",
    "from PIL import Image\n",
    "from matplotlib import pylab as plt\n",
    "import numpy as np\n",
    "import joblib\n",
    "\n",
    "png_file = \"tegaki.png\"\n",
    "\n",
    "img = Image.open(png_file)\n",
    "plt.imshow(img)\n",
    "\n",
    "img.thumbnail((8, 8), Image.LANCZOS)\n",
    "img = img.convert(\"L\")\n",
    "plt.imshow(img, cmap = \"gray\")\n",
    "\n",
    "img_a = np.array(img, 'f')\n",
    "img_a = 255 - img_a\n",
    "img_a = img_a //16\n",
    "img_a = img_a.reshape(-1,)\n",
    "\n",
    "clf = joblib.load(\"digits.pkl\")\n",
    "result = clf.predict([img_a])\n",
    "print(result)"
   ]
  },
  {
   "cell_type": "code",
   "execution_count": null,
   "id": "bf72f50f",
   "metadata": {},
   "outputs": [],
   "source": []
  }
 ],
 "metadata": {
  "kernelspec": {
   "display_name": "Python 3",
   "language": "python",
   "name": "python3"
  },
  "language_info": {
   "codemirror_mode": {
    "name": "ipython",
    "version": 3
   },
   "file_extension": ".py",
   "mimetype": "text/x-python",
   "name": "python",
   "nbconvert_exporter": "python",
   "pygments_lexer": "ipython3",
   "version": "3.9.2"
  }
 },
 "nbformat": 4,
 "nbformat_minor": 5
}
