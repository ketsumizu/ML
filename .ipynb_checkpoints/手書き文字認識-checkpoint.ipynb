{
 "cells": [
  {
   "cell_type": "code",
   "execution_count": 18,
   "id": "1cc2f279",
   "metadata": {
    "scrolled": true
   },
   "outputs": [
    {
     "name": "stdout",
     "output_type": "stream",
     "text": [
      "正解率=0.9555555555555556\n"
     ]
    },
    {
     "name": "stderr",
     "output_type": "stream",
     "text": [
      "/opt/anaconda3/envs/pythonenv/lib/python3.9/site-packages/sklearn/svm/_base.py:985: ConvergenceWarning: Liblinear failed to converge, increase the number of iterations.\n",
      "  warnings.warn(\"Liblinear failed to converge, increase \"\n"
     ]
    },
    {
     "data": {
      "text/plain": [
       "['digits.pkl']"
      ]
     },
     "execution_count": 18,
     "metadata": {},
     "output_type": "execute_result"
    }
   ],
   "source": [
    "# %matplotlib inline\n",
    "from sklearn.datasets import load_digits\n",
    "import matplotlib.pyplot as plt\n",
    "from sklearn.model_selection import train_test_split as split\n",
    "from sklearn import svm\n",
    "import joblib\n",
    "\n",
    "digits = load_digits()\n",
    "\n",
    "# for i in [3, 10, 12]:\n",
    "#     n = 16 - digits.data[i]\n",
    "#     nr = n.reshape(8, 8)\n",
    "#     plt.matshow(nr, cmap = \"gray\")\n",
    "# plt.show()\n",
    "\n",
    "x, x_test, y, y_test = split(digits.data, digits.target)\n",
    "\n",
    "# clf = svm.SVC()\n",
    "clf = svm.LinearSVC()\n",
    "clf.fit(x, y)\n",
    "\n",
    "pred = clf.predict(x_test)\n",
    "result = list(pred == y_test).count(True) / len(y_test)\n",
    "print(\"正解率=\" + str(result))\n",
    "\n",
    "joblib.dump(clf, \"digits.pkl\", compress=True)"
   ]
  },
  {
   "cell_type": "code",
   "execution_count": null,
   "id": "b34ef705",
   "metadata": {},
   "outputs": [],
   "source": []
  }
 ],
 "metadata": {
  "kernelspec": {
   "display_name": "Python 3",
   "language": "python",
   "name": "python3"
  },
  "language_info": {
   "codemirror_mode": {
    "name": "ipython",
    "version": 3
   },
   "file_extension": ".py",
   "mimetype": "text/x-python",
   "name": "python",
   "nbconvert_exporter": "python",
   "pygments_lexer": "ipython3",
   "version": "3.9.2"
  }
 },
 "nbformat": 4,
 "nbformat_minor": 5
}
